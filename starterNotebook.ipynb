{
 "cells": [
  {
   "cell_type": "markdown",
   "metadata": {},
   "source": [
    "# 2D DDW\n",
    "## Pedicting Crop Type from data based in India\n",
    "\n"
   ]
  },
  {
   "cell_type": "code",
   "execution_count": 4,
   "metadata": {},
   "outputs": [],
   "source": [
    "import numpy as np\n",
    "import pandas as pd\n",
    "import matplotlib.pyplot as plt\n",
    "import seaborn as sns"
   ]
  },
  {
   "cell_type": "markdown",
   "metadata": {},
   "source": [
    "### **Model Outline(stuff yall can follow):**\n",
    "> **Warning:** DO NOT MANIPULATE THE CSV FILES DIRECTLY. Any manipulation will be done by loading the data into a variable in your code. CSV FILES SHOULD BE UNTOUCHED.\n",
    "\n",
    "\n",
    "#### Step 1 Data Preprocessing:\n",
    "\n",
    "**CSV Files**\n",
    "```bash\n",
    "├── Fertilizer.csv\n",
    "├── Final_Dataset_after_temperature.csv\n",
    "```\n",
    "- Display both files using pandas and take a look at the columns. You need to find a way to combine this datasets and remove some of the unnecessary columns(ex. Production column in final dataset.)\n",
    "- After which, recall what i said about data that are not numbers, in this case states. Look up panda dummy variables.\n",
    "- Normalize the data. Can use the one in problems set.\n",
    "- Use charts to visualize, summarize and understand your data. Whatever stuff you guys can think of that will help someone to understand the data better(I'll do this~Gangesh)\n",
    "  \n",
    "#### Step 2 Training and Validation:\n",
    "- Follow the initial steps exactly as in cohort 9 to train your first model\n",
    "- evaluate the model using an appropriate metric. Indicate all data of the trained model together with the error through your chosen error function. Visulize the trained model with maybe types of graph\n",
    "- Take steps to improve your model. Try to search online. One way is to vary the iterations and learning rate. Train a few times, then choose the model with the best accuracy.\n",
    "\n",
    "#### Step 3 Prediction:\n",
    "Now that you have your trained model, you need to find a way to predict the crop type that gives the highest yield. Recall that the above model predicts highest yield for any given crop type. So what you would do is create a function where the user types in everything except for crop type, and you would go on to predict yield for every crop type with the inputted variables. After which you will choose the crop type with the highest yield and return it \n"
   ]
  }
 ],
 "metadata": {
  "kernelspec": {
   "display_name": "Python 3",
   "language": "python",
   "name": "python3"
  },
  "language_info": {
   "codemirror_mode": {
    "name": "ipython",
    "version": 3
   },
   "file_extension": ".py",
   "mimetype": "text/x-python",
   "name": "python",
   "nbconvert_exporter": "python",
   "pygments_lexer": "ipython3",
   "version": "3.10.8"
  }
 },
 "nbformat": 4,
 "nbformat_minor": 2
}
